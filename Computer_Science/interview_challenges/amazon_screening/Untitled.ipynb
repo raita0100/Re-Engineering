{
 "cells": [
  {
   "cell_type": "code",
   "execution_count": 15,
   "metadata": {},
   "outputs": [],
   "source": [
    "from collection \n",
    "\n",
    "def groupTransactions(transactions):\n",
    "    \n",
    "    new_arr = {}\n",
    "    \n",
    "    for i in transactions:\n",
    "        \n",
    "        if i not in list(new_arr.keys()):\n",
    "            new_arr[i] = 0\n",
    "            \n",
    "        new_arr[i] += 1\n",
    "        \n",
    "    ret_arr = {}\n",
    "    \n",
    "    x = sorted(new_arr.items(), key = lambda kv: kv[1], reverse=True)\n",
    "    \n",
    "    for i in x:\n",
    "        \n",
    "        if i[1] not in list(ret_arr.keys()):\n",
    "            ret_arr[i[1]] = []\n",
    "            \n",
    "        ret_arr[i[1]].append(i[0])\n",
    "        \n",
    "    print(ret_arr)\n",
    "    \n",
    "    ret_str = []\n",
    "    \n",
    "    for i, vals in ret_arr.items():\n",
    "        _v = sorted(vals)\n",
    "        for ii in _v:\n",
    "            x = f\"{ii} {i}\"\n",
    "            ret_str.append(x)\n",
    "            \n",
    "    return ret_str"
   ]
  },
  {
   "cell_type": "code",
   "execution_count": 16,
   "metadata": {},
   "outputs": [
    {
     "name": "stdout",
     "output_type": "stream",
     "text": [
      "{2: ['note', 'mouse'], 1: ['key']}\n"
     ]
    },
    {
     "data": {
      "text/plain": [
       "['mouse 2', 'note 2', 'key 1']"
      ]
     },
     "execution_count": 16,
     "metadata": {},
     "output_type": "execute_result"
    }
   ],
   "source": [
    "groupTransactions([\"note\", \"note\", \"mouse\", \"key\", \"mouse\"])"
   ]
  },
  {
   "cell_type": "code",
   "execution_count": 4,
   "metadata": {},
   "outputs": [
    {
     "data": {
      "text/plain": [
       "True"
      ]
     },
     "execution_count": 4,
     "metadata": {},
     "output_type": "execute_result"
    }
   ],
   "source": [
    "1 in x.keys()"
   ]
  },
  {
   "cell_type": "code",
   "execution_count": 89,
   "metadata": {},
   "outputs": [
    {
     "name": "stdout",
     "output_type": "stream",
     "text": [
      "5\n"
     ]
    }
   ],
   "source": [
    "def maxEvents(arrival, duration):\n",
    "    departure = [i+ii for i,ii in zip(arrival, duration)]\n",
    "    count = 1\n",
    "    nextServedIn = arrival[0]+departure[0]\n",
    "    visited=set()\n",
    "    visited.add(arrival[0])\n",
    "    for index,a in enumerate(arrival[1::]):\n",
    "        if a >= nextServedIn and a not in visited:\n",
    "            visited.add(a)\n",
    "        nextServedIn+=departure[index]\n",
    "        count+=1\n",
    "    return count\n",
    "print(maxEvents([1, 1, 1, 1, 4], [10, 3, 6, 4, 2]))\n",
    "#print(maxEvents([1, 3, 3, 5, 7], [2, 2, 1, 2, 1]))\n",
    "#print(maxEvents([1], [1]))\n",
    "#print(maxEvents([1, 3, 4, 6], [4, 3, 3, 2]))"
   ]
  },
  {
   "cell_type": "code",
   "execution_count": 79,
   "metadata": {},
   "outputs": [
    {
     "data": {
      "text/plain": [
       "[6]"
      ]
     },
     "execution_count": 79,
     "metadata": {},
     "output_type": "execute_result"
    }
   ],
   "source": [
    "x = [1,2,35,6,6]\n",
    "x[4::]"
   ]
  },
  {
   "cell_type": "code",
   "execution_count": 73,
   "metadata": {},
   "outputs": [],
   "source": [
    "from collections import Counter\n",
    "\n",
    "def groupTransactions(transactions):\n",
    "    \n",
    "    gr1 = dict(Counter(transactions))\n",
    "    \n",
    "    gr1 = sorted(gr1.items(), key=lambda x: (x[1],x[0]), reverse=True)\n",
    "    print(gr1)\n",
    "    new_arr = {}\n",
    "    \n",
    "    for i in gr1:\n",
    "        \n",
    "        if i[1] not in new_arr.keys():\n",
    "            new_arr[i[1]] = []\n",
    "            \n",
    "        new_arr[i[1]].append(i[0])\n",
    "    \n",
    "    ret_arr = []\n",
    "    \n",
    "    for i, vals in new_arr.items():\n",
    "        \n",
    "        _v = sorted(vals)\n",
    "        #print(_v)\n",
    "        x = f\" {i}\"\n",
    "        arr = [s+x for s in _v]\n",
    "        ret_arr += arr\n",
    "        \n",
    "    print(ret_arr)"
   ]
  },
  {
   "cell_type": "code",
   "execution_count": 74,
   "metadata": {},
   "outputs": [
    {
     "name": "stdout",
     "output_type": "stream",
     "text": [
      "[('pear', 1), ('banana', 1), ('apple', 1)]\n",
      "['apple 1', 'banana 1', 'pear 1']\n"
     ]
    }
   ],
   "source": [
    "#groupTransactions([\"note\", \"note\", \"mouse\", \"key\", \"mouse\"])\n",
    "groupTransactions([\"banana\", \"pear\", \"apple\"])"
   ]
  },
  {
   "cell_type": "code",
   "execution_count": 44,
   "metadata": {},
   "outputs": [],
   "source": [
    "x = [\"1\", \"c\"]"
   ]
  },
  {
   "cell_type": "code",
   "execution_count": 51,
   "metadata": {},
   "outputs": [],
   "source": [
    "from collections import OrderedDict \n",
    "  \n",
    "def group_list(lst):\n",
    "      \n",
    "    res =  [(el, lst.count(el)) for el in lst]\n",
    "    return list(OrderedDict(res).items())"
   ]
  },
  {
   "cell_type": "code",
   "execution_count": 52,
   "metadata": {},
   "outputs": [
    {
     "data": {
      "text/plain": [
       "[('note', 2), ('mouse', 2), ('key', 1)]"
      ]
     },
     "execution_count": 52,
     "metadata": {},
     "output_type": "execute_result"
    }
   ],
   "source": [
    "group_list([\"note\", \"note\", \"mouse\", \"key\", \"mouse\"])"
   ]
  },
  {
   "cell_type": "code",
   "execution_count": 57,
   "metadata": {},
   "outputs": [],
   "source": [
    "def groupTransactions(transactions):\n",
    "    \n",
    "    gr = [(el, transactions.count(el)) for el in transactions]\n",
    "    gr = list(OrderedDict(gr).items())\n",
    "    print(gr)"
   ]
  },
  {
   "cell_type": "code",
   "execution_count": 58,
   "metadata": {},
   "outputs": [
    {
     "name": "stdout",
     "output_type": "stream",
     "text": [
      "[('note', 2), ('mouse', 2), ('key', 1)]\n"
     ]
    }
   ],
   "source": [
    "groupTransactions([\"note\", \"note\", \"mouse\", \"key\", \"mouse\"])"
   ]
  },
  {
   "cell_type": "markdown",
   "metadata": {},
   "source": [
    "1. Fist we are trying to group items in transaction with teir number of repeatations like [(\"notebook\", 2), (\"keyboard\", 1), (\"mouse\", 2)].\n",
    "\n",
    "2. In second step we are sorting them with their repeatations accordingle in descending order [(\"notebook\", 2),(\"mouse\", 2), (\"keyboard\", 1)]\n",
    "\n",
    "3. Then again we are using a dictionary to store values based on their repeatations in to a list\n",
    "    {\n",
    "        2: [notebook, mouse],\n",
    "        1: [keyboard]\n",
    "    }\n",
    "    \n",
    "4. then we are sorting each item list in dictionary based on letters in ascending order and making a string\n",
    "    {\n",
    "        2: [mouse, notebook],\n",
    "        1: [keyboard]\n",
    "    }\n",
    "    ['mouse 2', 'notebook 2', 'keyboard 1']\n",
    "    \n",
    "5. then returning the final list"
   ]
  },
  {
   "cell_type": "code",
   "execution_count": 100,
   "metadata": {},
   "outputs": [
    {
     "name": "stdout",
     "output_type": "stream",
     "text": [
      "3\n",
      "5\n",
      "2\n",
      "3\n"
     ]
    }
   ],
   "source": [
    "def maxEvents(arrival, duration):\n",
    "    departure = [i+ii for i,ii in zip(arrival, duration)]\n",
    "    \n",
    "    arr = set(arrival)\n",
    "    depr = set(departure)\n",
    "    \n",
    "    return len(arr.intersection(depr))+2\n",
    "print(maxEvents([1, 1, 1, 1, 4], [10, 3, 6, 4, 2]))\n",
    "print(maxEvents([1, 3, 3, 5, 7], [2, 2, 1, 2, 1]))\n",
    "print(maxEvents([1], [1]))\n",
    "print(maxEvents([1, 3, 4, 6], [4, 3, 3, 2]))"
   ]
  },
  {
   "cell_type": "code",
   "execution_count": null,
   "metadata": {},
   "outputs": [],
   "source": []
  }
 ],
 "metadata": {
  "kernelspec": {
   "display_name": "Python 3",
   "language": "python",
   "name": "python3"
  },
  "language_info": {
   "codemirror_mode": {
    "name": "ipython",
    "version": 3
   },
   "file_extension": ".py",
   "mimetype": "text/x-python",
   "name": "python",
   "nbconvert_exporter": "python",
   "pygments_lexer": "ipython3",
   "version": "3.7.3"
  }
 },
 "nbformat": 4,
 "nbformat_minor": 2
}
