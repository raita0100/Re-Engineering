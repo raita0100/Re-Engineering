{
 "cells": [
  {
   "cell_type": "code",
   "execution_count": 1,
   "metadata": {},
   "outputs": [],
   "source": [
    "## Importing maths libraries\n",
    "import numpy as np"
   ]
  },
  {
   "cell_type": "code",
   "execution_count": 2,
   "metadata": {},
   "outputs": [],
   "source": [
    "## Defining sample neural network\n",
    "\n",
    "## Class Node for storing the summation results      \n",
    "\n",
    "## class Layer for defining the network\n",
    "class Layer():\n",
    "    \n",
    "    def __init__(self, nodes: int, act: str='sigmoid'):\n",
    "        self.nodes = np.zeros((nodes, 1), dtype='float')\n",
    "        self.bias = np.random.rand(2)[0]\n",
    "        self.activation = act\n",
    "            \n",
    "class Weights():\n",
    "    \n",
    "    def __init__(self, prev_nodes, next_nodes):\n",
    "        \n",
    "        self.weights = np.random.rand(prev_nodes, next_nodes)\n",
    "        \n",
    "class FeedForward():\n",
    "    \n",
    "    def __init__(self):\n",
    "        pass\n",
    "    \n",
    "    def forward(self, layers, weights):\n",
    "        \n",
    "        for i in range(len(layers)-1):\n",
    "            \n",
    "            layers[i+1].nodes = self.activation_func((np.matmul(layers[i].nodes, weights[i].weights) + layers[i].bias),\\\n",
    "                                                     layers[i+1].activation)\n",
    "            \n",
    "        \n",
    "    def activation_func(self, val, act):\n",
    "        \n",
    "        if act == 'sigmoid':\n",
    "            return (1 / (1 + np.e**(-val)))\n",
    "        \n",
    "        if act == 'tanh':\n",
    "            return np.tanh(val)\n",
    "        \n",
    "        if act == 'soft':\n",
    "            return np.log(abs(val))"
   ]
  },
  {
   "cell_type": "code",
   "execution_count": 3,
   "metadata": {},
   "outputs": [],
   "source": [
    "## sample net with 1 input 1 hidden 1 output\n",
    "\n",
    "IN = Layer(nodes=1)\n",
    "HI = Layer(nodes=3)\n",
    "OUT = Layer(nodes=1, act='soft')\n",
    "\n",
    "W1 = Weights(1,3)\n",
    "W2 = Weights(3, 1)\n"
   ]
  },
  {
   "cell_type": "code",
   "execution_count": 4,
   "metadata": {},
   "outputs": [
    {
     "name": "stdout",
     "output_type": "stream",
     "text": [
      "IN :  [[0.]]\n",
      "HIDDEN :  [[0.]\n",
      " [0.]\n",
      " [0.]]\n",
      "OUT :  [[0.]]\n"
     ]
    }
   ],
   "source": [
    "print(\"IN : \",IN.nodes)\n",
    "print(\"HIDDEN : \", HI.nodes)\n",
    "print(\"OUT : \", OUT.nodes)"
   ]
  },
  {
   "cell_type": "code",
   "execution_count": 5,
   "metadata": {},
   "outputs": [],
   "source": [
    "IN.nodes[0,0] = 3"
   ]
  },
  {
   "cell_type": "code",
   "execution_count": 6,
   "metadata": {},
   "outputs": [],
   "source": [
    "F = FeedForward()"
   ]
  },
  {
   "cell_type": "code",
   "execution_count": 7,
   "metadata": {},
   "outputs": [],
   "source": [
    "F.forward([IN, HI, OUT], [W1, W2])"
   ]
  },
  {
   "cell_type": "code",
   "execution_count": 8,
   "metadata": {
    "scrolled": true
   },
   "outputs": [
    {
     "name": "stdout",
     "output_type": "stream",
     "text": [
      "IN :  [[3.]]\n",
      "HIDDEN :  [[0.73351805 0.76931678 0.94667937]]\n",
      "OUT :  [[0.71693886]]\n"
     ]
    }
   ],
   "source": [
    "print(\"IN : \",IN.nodes)\n",
    "print(\"HIDDEN : \", HI.nodes)\n",
    "print(\"OUT : \", OUT.nodes)"
   ]
  },
  {
   "cell_type": "code",
   "execution_count": 9,
   "metadata": {},
   "outputs": [
    {
     "name": "stdout",
     "output_type": "stream",
     "text": [
      "W1 : [[0.21059085 0.27456141 0.83195469]]\n",
      "W2 : [[0.34588184]\n",
      " [0.52591296]\n",
      " [0.89405335]]\n"
     ]
    }
   ],
   "source": [
    "print(f\"W1 : {W1.weights}\")\n",
    "print(f\"W2 : {W2.weights}\")"
   ]
  },
  {
   "cell_type": "code",
   "execution_count": 10,
   "metadata": {},
   "outputs": [
    {
     "data": {
      "text/plain": [
       "array([[0.73105858],\n",
       "       [0.73105858],\n",
       "       [0.73105858]])"
      ]
     },
     "execution_count": 10,
     "metadata": {},
     "output_type": "execute_result"
    }
   ],
   "source": [
    "x = np.ones((3,1))\n",
    "1/(1+ (np.e**(-x)))"
   ]
  },
  {
   "cell_type": "code",
   "execution_count": 11,
   "metadata": {},
   "outputs": [],
   "source": [
    "x = np.array([[0.88603029, 0.88603029, 0.88603029]])\n",
    "y = np.array([[1.72723371e-077], [1.72723371e-077], [2.47032823e-323]])"
   ]
  },
  {
   "cell_type": "code",
   "execution_count": 12,
   "metadata": {},
   "outputs": [
    {
     "data": {
      "text/plain": [
       "0.8481487698593113"
      ]
     },
     "execution_count": 12,
     "metadata": {},
     "output_type": "execute_result"
    }
   ],
   "source": [
    "\n",
    "np.random.rand()"
   ]
  },
  {
   "cell_type": "code",
   "execution_count": null,
   "metadata": {},
   "outputs": [],
   "source": [
    "## Error Finding "
   ]
  }
 ],
 "metadata": {
  "kernelspec": {
   "display_name": "Python 3",
   "language": "python",
   "name": "python3"
  },
  "language_info": {
   "codemirror_mode": {
    "name": "ipython",
    "version": 3
   },
   "file_extension": ".py",
   "mimetype": "text/x-python",
   "name": "python",
   "nbconvert_exporter": "python",
   "pygments_lexer": "ipython3",
   "version": "3.7.3"
  }
 },
 "nbformat": 4,
 "nbformat_minor": 2
}
