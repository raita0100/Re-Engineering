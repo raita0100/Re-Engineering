{
 "cells": [
  {
   "cell_type": "markdown",
   "metadata": {},
   "source": [
    "- Dynamic programing solved by\n",
    "    * Dividing problem into subproblem.\n",
    "    * then finding solution to subproblem and adding them up\n",
    "    \n",
    "> finding Longest increasing subsequence in a array \n"
   ]
  },
  {
   "cell_type": "code",
   "execution_count": 72,
   "metadata": {},
   "outputs": [],
   "source": [
    "import numpy as np\n",
    "# my solution\n",
    "# sequence is given arrange them in 2d array []\n",
    "# find edges from element to element by given condition ->\n",
    "# get maximum edged output\n",
    "\n",
    "\n",
    "# DFS algorithm for vissiting the nodes\n",
    "class DFS():\n",
    "    \n",
    "    def __init__(self, mat, v):\n",
    "        self.G = mat\n",
    "        self.V = v\n",
    "        self.visit_vec = np.zeros((len(mat), len(mat)))\n",
    "        self.count = {}\n",
    "        self.c = 0;\n",
    "        \n",
    "    def _dfs(self, v):\n",
    "        \n",
    "        \n",
    "        for w in self.G[v]:\n",
    "            \n",
    "            if self.visit_vec[v][w[1]] == 0:\n",
    "                self.visit_vec[v][w[1]] = 1\n",
    "                self.count[self.V][self.c] = w[1]\n",
    "                self.c+=1\n",
    "                self._dfs(w[1])\n",
    "        \n",
    "                \n",
    "    def dfs(self, v):\n",
    "        self.count[self.V] = {}\n",
    "        self._dfs(v)\n",
    "        return self.count\n",
    "\n",
    "def visit(G, v):\n",
    "    visit[v] = 1\n",
    "    \n",
    "def seq(A):\n",
    "    # init the matrix with '0' initially to indicate the no edges\n",
    "    M = np.zeros([len(A), len(A)])\n",
    "    print(f\"\\n=>Matrix initialised : {M.shape}\")\n",
    "    \n",
    "    M_map = [[] for i in range(len(A))]\n",
    "    # check for each edge and update the related matrix\n",
    "    for r in range(0, len(A)):\n",
    "        M_map[r] = []\n",
    "        for c in range(0, len(A)):\n",
    "            if (A[r] <= A[c]) and (c >= r):\n",
    "                M[r][c] = 1\n",
    "                M_map[r].append([r, c])\n",
    "    print(f\"\\nGraph matrix : \\n{M}\\n\")\n",
    "    print(f\"\\nCalculated the matrix : \\n\")\n",
    "    new_map = {}\n",
    "    for i in M_map:\n",
    "        print(i)\n",
    "        new_map[i[0][0]] = []\n",
    "        for j in i:\n",
    "            if len(j) == 2:\n",
    "                new_map[j[0]].append(j[1])\n",
    "            else:\n",
    "                new_map[j[0]].append(j)\n",
    "            \n",
    "    print(f\"\\n{new_map}\\n\")\n",
    "        \n",
    "    # traversing over the nodes\n",
    "    #count_nodes = []\n",
    "    #for i in range(0, len(A)):\n",
    "    #    d = DFS(M_map, i)\n",
    "    #    count_nodes.append(d.dfs(i))\n",
    "        \n",
    "    #print(count_nodes)"
   ]
  },
  {
   "cell_type": "code",
   "execution_count": 73,
   "metadata": {},
   "outputs": [
    {
     "name": "stdout",
     "output_type": "stream",
     "text": [
      "\n",
      "=>Matrix initialised : (9, 9)\n",
      "\n",
      "Graph matrix : \n",
      "[[1. 1. 1. 1. 1. 1. 1. 1. 1.]\n",
      " [0. 1. 0. 0. 0. 1. 0. 0. 1.]\n",
      " [0. 0. 1. 1. 0. 1. 1. 1. 1.]\n",
      " [0. 0. 0. 1. 0. 1. 1. 1. 1.]\n",
      " [0. 0. 0. 0. 1. 1. 1. 1. 1.]\n",
      " [0. 0. 0. 0. 0. 1. 0. 0. 1.]\n",
      " [0. 0. 0. 0. 0. 0. 1. 1. 1.]\n",
      " [0. 0. 0. 0. 0. 0. 0. 1. 1.]\n",
      " [0. 0. 0. 0. 0. 0. 0. 0. 1.]]\n",
      "\n",
      "\n",
      "Calculated the matrix : \n",
      "\n",
      "[[0, 0], [0, 1], [0, 2], [0, 3], [0, 4], [0, 5], [0, 6], [0, 7], [0, 8]]\n",
      "[[1, 1], [1, 5], [1, 8]]\n",
      "[[2, 2], [2, 3], [2, 5], [2, 6], [2, 7], [2, 8]]\n",
      "[[3, 3], [3, 5], [3, 6], [3, 7], [3, 8]]\n",
      "[[4, 4], [4, 5], [4, 6], [4, 7], [4, 8]]\n",
      "[[5, 5], [5, 8]]\n",
      "[[6, 6], [6, 7], [6, 8]]\n",
      "[[7, 7], [7, 8]]\n",
      "[[8, 8]]\n",
      "\n",
      "{0: [0, 1, 2, 3, 4, 5, 6, 7, 8], 1: [1, 5, 8], 2: [2, 3, 5, 6, 7, 8], 3: [3, 5, 6, 7, 8], 4: [4, 5, 6, 7, 8], 5: [5, 8], 6: [6, 7, 8], 7: [7, 8], 8: [8]}\n",
      "\n"
     ]
    }
   ],
   "source": [
    "seq([1,8,3,5,2,8,5,6,9])"
   ]
  },
  {
   "cell_type": "code",
   "execution_count": 38,
   "metadata": {},
   "outputs": [
    {
     "data": {
      "text/plain": [
       "3"
      ]
     },
     "execution_count": 38,
     "metadata": {},
     "output_type": "execute_result"
    }
   ],
   "source": [
    "x = [\n",
    "    [12,34],\n",
    "    [4],\n",
    "    [7,8,9,1,2,3]\n",
    "]\n",
    "len(x)"
   ]
  },
  {
   "cell_type": "code",
   "execution_count": 45,
   "metadata": {},
   "outputs": [
    {
     "ename": "IndexError",
     "evalue": "list assignment index out of range",
     "output_type": "error",
     "traceback": [
      "\u001b[0;31m---------------------------------------------------------------------------\u001b[0m",
      "\u001b[0;31mIndexError\u001b[0m                                Traceback (most recent call last)",
      "\u001b[0;32m<ipython-input-45-23ae9e985eaa>\u001b[0m in \u001b[0;36m<module>\u001b[0;34m\u001b[0m\n\u001b[1;32m      1\u001b[0m \u001b[0mx\u001b[0m \u001b[0;34m=\u001b[0m \u001b[0;34m[\u001b[0m\u001b[0;34m]\u001b[0m\u001b[0;34m\u001b[0m\u001b[0;34m\u001b[0m\u001b[0m\n\u001b[0;32m----> 2\u001b[0;31m \u001b[0mx\u001b[0m\u001b[0;34m[\u001b[0m\u001b[0;36m0\u001b[0m\u001b[0;34m]\u001b[0m \u001b[0;34m=\u001b[0m \u001b[0;36m1\u001b[0m\u001b[0;34m\u001b[0m\u001b[0;34m\u001b[0m\u001b[0m\n\u001b[0m",
      "\u001b[0;31mIndexError\u001b[0m: list assignment index out of range"
     ]
    }
   ],
   "source": [
    "x = []\n",
    "x[0] = 1"
   ]
  },
  {
   "cell_type": "code",
   "execution_count": 61,
   "metadata": {},
   "outputs": [],
   "source": [
    "x = {}\n",
    "x[1] = 2"
   ]
  },
  {
   "cell_type": "code",
   "execution_count": 62,
   "metadata": {},
   "outputs": [
    {
     "data": {
      "text/plain": [
       "{1: 2}"
      ]
     },
     "execution_count": 62,
     "metadata": {},
     "output_type": "execute_result"
    }
   ],
   "source": [
    "x"
   ]
  },
  {
   "cell_type": "code",
   "execution_count": 63,
   "metadata": {},
   "outputs": [
    {
     "ename": "KeyError",
     "evalue": "2",
     "output_type": "error",
     "traceback": [
      "\u001b[0;31m---------------------------------------------------------------------------\u001b[0m",
      "\u001b[0;31mKeyError\u001b[0m                                  Traceback (most recent call last)",
      "\u001b[0;32m<ipython-input-63-7ef4c2645ef8>\u001b[0m in \u001b[0;36m<module>\u001b[0;34m\u001b[0m\n\u001b[0;32m----> 1\u001b[0;31m \u001b[0;32mif\u001b[0m \u001b[0mx\u001b[0m\u001b[0;34m[\u001b[0m\u001b[0;36m2\u001b[0m\u001b[0;34m]\u001b[0m\u001b[0;34m:\u001b[0m\u001b[0;34m\u001b[0m\u001b[0;34m\u001b[0m\u001b[0m\n\u001b[0m\u001b[1;32m      2\u001b[0m     \u001b[0mprint\u001b[0m\u001b[0;34m(\u001b[0m\u001b[0;34m\"H\"\u001b[0m\u001b[0;34m)\u001b[0m\u001b[0;34m\u001b[0m\u001b[0;34m\u001b[0m\u001b[0m\n",
      "\u001b[0;31mKeyError\u001b[0m: 2"
     ]
    }
   ],
   "source": [
    "if x[2]:\n",
    "    print(\"H\")"
   ]
  },
  {
   "cell_type": "code",
   "execution_count": null,
   "metadata": {},
   "outputs": [],
   "source": []
  }
 ],
 "metadata": {
  "kernelspec": {
   "display_name": "Python 3",
   "language": "python",
   "name": "python3"
  },
  "language_info": {
   "codemirror_mode": {
    "name": "ipython",
    "version": 3
   },
   "file_extension": ".py",
   "mimetype": "text/x-python",
   "name": "python",
   "nbconvert_exporter": "python",
   "pygments_lexer": "ipython3",
   "version": "3.7.3"
  }
 },
 "nbformat": 4,
 "nbformat_minor": 2
}
